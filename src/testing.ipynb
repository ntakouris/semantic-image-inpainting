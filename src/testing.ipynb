{
 "cells": [
  {
   "cell_type": "code",
   "execution_count": 7,
   "metadata": {},
   "outputs": [],
   "source": [
    "import numpy as np\n",
    "import os\n",
    "from model import ModelInpaint\n",
    "import imageio\n",
    "import scipy.misc\n",
    "import scipy"
   ]
  },
  {
   "cell_type": "code",
   "execution_count": 8,
   "metadata": {},
   "outputs": [
    {
     "data": {
      "text/plain": [
       "65"
      ]
     },
     "execution_count": 8,
     "metadata": {},
     "output_type": "execute_result"
    }
   ],
   "source": [
    "image_files = os.listdir('../testimages')\n",
    "len(image_files)"
   ]
  },
  {
   "cell_type": "code",
   "execution_count": 10,
   "metadata": {},
   "outputs": [
    {
     "data": {
      "text/plain": [
       "(65, 64, 64, 3)"
      ]
     },
     "execution_count": 10,
     "metadata": {},
     "output_type": "execute_result"
    }
   ],
   "source": [
    "image_arrays = [imageio.imread(f'../testimages/{fname}', pilmode='RGB').astype(np.float) for fname in image_files]\n",
    "images = np.stack(image_arrays)\n",
    "images.shape"
   ]
  },
  {
   "cell_type": "code",
   "execution_count": 12,
   "metadata": {},
   "outputs": [
    {
     "name": "stdout",
     "output_type": "stream",
     "text": [
      "WARNING:tensorflow:From /Users/zarkopafilis/Desktop/semantic_image_inpainting/src/model.py:206: The name tf.gfile.GFile is deprecated. Please use tf.io.gfile.GFile instead.\n",
      "\n",
      "WARNING:tensorflow:From /Users/zarkopafilis/Desktop/semantic_image_inpainting/src/model.py:207: The name tf.GraphDef is deprecated. Please use tf.compat.v1.GraphDef instead.\n",
      "\n",
      "WARNING:tensorflow:From /Users/zarkopafilis/Desktop/semantic_image_inpainting/src/model.py:216: calling import_graph_def (from tensorflow.python.framework.importer) with op_dict is deprecated and will be removed in a future version.\n",
      "Instructions for updating:\n",
      "Please file an issue at https://github.com/tensorflow/tensorflow/issues if you depend on this feature.\n",
      "WARNING:tensorflow:From /Users/zarkopafilis/Desktop/semantic_image_inpainting/src/model.py:47: The name tf.Session is deprecated. Please use tf.compat.v1.Session instead.\n",
      "\n"
     ]
    }
   ],
   "source": [
    "m = ModelInpaint('../graphs/dcgan-100.pb', {})"
   ]
  },
  {
   "cell_type": "code",
   "execution_count": 13,
   "metadata": {},
   "outputs": [],
   "source": [
    "results = m.discriminate(m.imtransform(images))"
   ]
  },
  {
   "cell_type": "code",
   "execution_count": 14,
   "metadata": {},
   "outputs": [
    {
     "data": {
      "text/plain": [
       "array([[0.9997958 ],\n",
       "       [0.98971033],\n",
       "       [0.99547607],\n",
       "       [0.99921364],\n",
       "       [0.99963975],\n",
       "       [0.99933946],\n",
       "       [0.61004895],\n",
       "       [0.9999019 ],\n",
       "       [0.9999895 ],\n",
       "       [0.9998913 ],\n",
       "       [0.99845636],\n",
       "       [0.9983836 ],\n",
       "       [0.9998499 ],\n",
       "       [0.9775964 ],\n",
       "       [0.99440086],\n",
       "       [0.9994198 ],\n",
       "       [0.99970925],\n",
       "       [0.9964962 ],\n",
       "       [0.9939872 ],\n",
       "       [0.99681747],\n",
       "       [0.9996719 ],\n",
       "       [0.99972904],\n",
       "       [0.9968481 ],\n",
       "       [0.99754083],\n",
       "       [0.99928445],\n",
       "       [0.9986018 ],\n",
       "       [0.99083006],\n",
       "       [0.9993967 ],\n",
       "       [0.99362636],\n",
       "       [0.52987397],\n",
       "       [0.99931014],\n",
       "       [0.98724747],\n",
       "       [0.99920857],\n",
       "       [0.9993924 ],\n",
       "       [0.99757516],\n",
       "       [0.9842466 ],\n",
       "       [0.9967406 ],\n",
       "       [0.85621107],\n",
       "       [0.99761635],\n",
       "       [0.9937314 ],\n",
       "       [0.98529184],\n",
       "       [0.17870578],\n",
       "       [0.99933213],\n",
       "       [0.99984044],\n",
       "       [0.985065  ],\n",
       "       [0.99493444],\n",
       "       [0.92839926],\n",
       "       [0.99638504],\n",
       "       [0.9652196 ],\n",
       "       [0.9870372 ],\n",
       "       [0.99951875],\n",
       "       [0.99943805],\n",
       "       [0.9508841 ],\n",
       "       [0.9994967 ],\n",
       "       [0.9959925 ],\n",
       "       [0.9989189 ],\n",
       "       [0.93569803],\n",
       "       [0.99991804],\n",
       "       [0.98027927],\n",
       "       [0.9971945 ],\n",
       "       [0.98082805],\n",
       "       [0.9938767 ],\n",
       "       [0.9813608 ],\n",
       "       [0.99907076],\n",
       "       [0.98592246]], dtype=float32)"
      ]
     },
     "execution_count": 14,
     "metadata": {},
     "output_type": "execute_result"
    }
   ],
   "source": [
    "results"
   ]
  }
 ],
 "metadata": {
  "kernelspec": {
   "display_name": "Python 3",
   "language": "python",
   "name": "python3"
  },
  "language_info": {
   "codemirror_mode": {
    "name": "ipython",
    "version": 3
   },
   "file_extension": ".py",
   "mimetype": "text/x-python",
   "name": "python",
   "nbconvert_exporter": "python",
   "pygments_lexer": "ipython3",
   "version": "3.7.9"
  }
 },
 "nbformat": 4,
 "nbformat_minor": 4
}
